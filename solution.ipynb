{
 "cells": [
  {
   "cell_type": "code",
   "execution_count": 139,
   "outputs": [],
   "source": [
    "import pandas as pd"
   ],
   "metadata": {
    "collapsed": false,
    "ExecuteTime": {
     "end_time": "2023-10-19T01:24:30.506465800Z",
     "start_time": "2023-10-19T01:24:30.491920800Z"
    }
   },
   "id": "a3316da457833d57"
  },
  {
   "cell_type": "code",
   "execution_count": 148,
   "outputs": [],
   "source": [
    "# Import csv into a pd dataframe \n",
    "def random_stratified_sample(path):\n",
    "    data = pd.read_csv(path, low_memory = False)\n",
    "    \n",
    "    # Filter out all invalid clips\n",
    "    data = data[data['Duration'] >= 60] \n",
    "    \n",
    "    # Add a time of day column, representing only the hour of the day\n",
    "    data['StartDateTime'] = pd.to_datetime(data['StartDateTime'], format = '%d.%m.%Y %H:%M')\n",
    "    data['Time of Day'] = data['StartDateTime'].dt.strftime('%H')\n",
    "    \n",
    "    grouped_data = data.groupby(['Time of Day', 'AudioMothCode'])\n",
    "    stratified_sample = pd.DataFrame()\n",
    "    \n",
    "    # Random stratified selection\n",
    "    for name, group in grouped_data:\n",
    "        selected_sample = group.sample(n=1)\n",
    "        stratified_sample = pd.concat([stratified_sample, selected_sample])\n",
    "    grouped_stratified_sample = stratified_sample.groupby('AudioMothCode')\n",
    "    random_stratified_sample = pd.DataFrame(columns=stratified_sample.columns)\n",
    "    \n",
    "    # Make sure each sample has all 24 hours of the day\n",
    "    for name, group in grouped_stratified_sample:\n",
    "        if(len(group) == 24):\n",
    "            random_stratified_sample = pd.concat([random_stratified_sample, group], ignore_index = True)\n",
    "    \n",
    "    # Export to csv\n",
    "    random_stratified_sample.to_csv(\"stratified_random_sample.csv\", index=False)"
   ],
   "metadata": {
    "collapsed": false,
    "ExecuteTime": {
     "end_time": "2023-10-19T01:29:55.083647300Z",
     "start_time": "2023-10-19T01:29:55.080840100Z"
    }
   },
   "id": "258564a6cde723e9"
  },
  {
   "cell_type": "code",
   "execution_count": 150,
   "outputs": [
    {
     "name": "stderr",
     "output_type": "stream",
     "text": [
      "C:\\Users\\henry\\AppData\\Local\\Temp\\ipykernel_18296\\4099765819.py:25: FutureWarning: The behavior of DataFrame concatenation with empty or all-NA entries is deprecated. In a future version, this will no longer exclude empty or all-NA columns when determining the result dtypes. To retain the old behavior, exclude the relevant entries before the concat operation.\n",
      "  random_stratified_sample = pd.concat([random_stratified_sample, group], ignore_index = True)\n"
     ]
    }
   ],
   "source": [
    "# Test\n",
    "random_stratified_sample('Peru_2019_AudioMoth_Data_Full.csv')"
   ],
   "metadata": {
    "collapsed": false,
    "ExecuteTime": {
     "end_time": "2023-10-19T01:30:23.433802800Z",
     "start_time": "2023-10-19T01:30:21.899200400Z"
    }
   },
   "id": "c88c5b680d465ebd"
  },
  {
   "cell_type": "markdown",
   "source": [],
   "metadata": {
    "collapsed": false
   },
   "id": "5fe7cd35b9fd303b"
  }
 ],
 "metadata": {
  "kernelspec": {
   "display_name": "Python 3",
   "language": "python",
   "name": "python3"
  },
  "language_info": {
   "codemirror_mode": {
    "name": "ipython",
    "version": 2
   },
   "file_extension": ".py",
   "mimetype": "text/x-python",
   "name": "python",
   "nbconvert_exporter": "python",
   "pygments_lexer": "ipython2",
   "version": "2.7.6"
  }
 },
 "nbformat": 4,
 "nbformat_minor": 5
}
