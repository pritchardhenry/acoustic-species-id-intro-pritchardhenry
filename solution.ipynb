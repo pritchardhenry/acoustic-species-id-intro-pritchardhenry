{
 "cells": [
  {
   "cell_type": "code",
   "execution_count": 7,
   "outputs": [],
   "source": [
    "import pandas as pd\n",
    "import re"
   ],
   "metadata": {
    "collapsed": false,
    "ExecuteTime": {
     "end_time": "2023-10-24T05:35:13.521236800Z",
     "start_time": "2023-10-24T05:35:13.509691800Z"
    }
   },
   "id": "a3316da457833d57"
  },
  {
   "cell_type": "code",
   "execution_count": 22,
   "outputs": [],
   "source": [
    "#Function to filter through the \"Comments\" column since the StartDateTime column is unreliable\n",
    "def extract_time(text):\n",
    "    pattern = r'\\d{2}:\\d{2}:\\d{2}'\n",
    "    match = re.search(pattern, text)\n",
    "    \n",
    "    if match:\n",
    "        return match.group()\n",
    "    else:\n",
    "        return None\n",
    "\n",
    "\n",
    "def random_stratified_sample(path):\n",
    "    # Import csv into a pd dataframe \n",
    "    data = pd.read_csv(path, low_memory = False)\n",
    "    \n",
    "    # Filter out all invalid clips\n",
    "    data = data[data['Duration'] >= 60] \n",
    "    \n",
    "    # Add a time of day column, representing only the hour of the day, filtering out of the \"Comments\" column\n",
    "    data['StartDateTime'] = data['Comment'].apply(extract_time).astype(str)\n",
    "    data['StartDateTime'] = pd.to_datetime(data['StartDateTime'], format = '%H:%M:%S')\n",
    "    data['Time of Day'] = data['StartDateTime'].dt.strftime('%H')\n",
    "    \n",
    "    grouped_data = data.groupby(['Time of Day', 'AudioMothCode'])\n",
    "    stratified_sample = pd.DataFrame()\n",
    "    \n",
    "    # Random stratified selection\n",
    "    for name, group in grouped_data:\n",
    "        selected_sample = group.sample(n=1)\n",
    "        stratified_sample = pd.concat([stratified_sample, selected_sample])\n",
    "    grouped_stratified_sample = stratified_sample.groupby('AudioMothCode')\n",
    "    random_stratified_sample = pd.DataFrame(columns=stratified_sample.columns)\n",
    "    \n",
    "    # Make sure each sample has all 24 hours of the day\n",
    "    for name, group in grouped_stratified_sample:\n",
    "        if(len(group) == 24):\n",
    "            random_stratified_sample = pd.concat([random_stratified_sample, group], ignore_index = True)\n",
    "    \n",
    "    # Export to csv\n",
    "    random_stratified_sample.to_csv(\"stratified_random_sample.csv\", index=False)"
   ],
   "metadata": {
    "collapsed": false,
    "ExecuteTime": {
     "end_time": "2023-10-24T05:42:59.475470800Z",
     "start_time": "2023-10-24T05:42:59.451042300Z"
    }
   },
   "id": "258564a6cde723e9"
  },
  {
   "cell_type": "code",
   "execution_count": 23,
   "outputs": [
    {
     "name": "stderr",
     "output_type": "stream",
     "text": [
      "C:\\Users\\henry\\AppData\\Local\\Temp\\ipykernel_2964\\2865670707.py:36: FutureWarning: The behavior of DataFrame concatenation with empty or all-NA entries is deprecated. In a future version, this will no longer exclude empty or all-NA columns when determining the result dtypes. To retain the old behavior, exclude the relevant entries before the concat operation.\n",
      "  random_stratified_sample = pd.concat([random_stratified_sample, group], ignore_index = True)\n"
     ]
    }
   ],
   "source": [
    "# Test\n",
    "random_stratified_sample('Peru_2019_AudioMoth_Data_Full.csv')"
   ],
   "metadata": {
    "collapsed": false,
    "ExecuteTime": {
     "end_time": "2023-10-24T05:43:06.315174Z",
     "start_time": "2023-10-24T05:43:05.279818600Z"
    }
   },
   "id": "c88c5b680d465ebd"
  },
  {
   "cell_type": "markdown",
   "source": [],
   "metadata": {
    "collapsed": false
   },
   "id": "5fe7cd35b9fd303b"
  }
 ],
 "metadata": {
  "kernelspec": {
   "display_name": "Python 3",
   "language": "python",
   "name": "python3"
  },
  "language_info": {
   "codemirror_mode": {
    "name": "ipython",
    "version": 2
   },
   "file_extension": ".py",
   "mimetype": "text/x-python",
   "name": "python",
   "nbconvert_exporter": "python",
   "pygments_lexer": "ipython2",
   "version": "2.7.6"
  }
 },
 "nbformat": 4,
 "nbformat_minor": 5
}
